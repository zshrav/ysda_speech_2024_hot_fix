{
 "cells": [
  {
   "cell_type": "markdown",
   "id": "402a4f53",
   "metadata": {},
   "source": [
    "### Plan\n",
    "1. Getting familiar with scipy STFT and ISTFT\n",
    "2. Streaming STFT and ISTFT implementation\n",
    "3. Toy noise reduction with a low-pass filter"
   ]
  },
  {
   "cell_type": "code",
   "execution_count": null,
   "id": "49d02ec4",
   "metadata": {},
   "outputs": [],
   "source": [
    "import matplotlib.pyplot as plt\n",
    "import numpy as np\n",
    "import soundfile as sf"
   ]
  },
  {
   "cell_type": "markdown",
   "id": "de005fb6",
   "metadata": {},
   "source": [
    "# Streaming STFT and ISTFT"
   ]
  },
  {
   "cell_type": "markdown",
   "id": "c06fc5ba",
   "metadata": {},
   "source": [
    "**This is the input we will work with**"
   ]
  },
  {
   "cell_type": "code",
   "execution_count": null,
   "id": "0721465e",
   "metadata": {},
   "outputs": [],
   "source": [
    "PATH_IN_FOR_STFT = \"data/mixtures/cat.wav\""
   ]
  },
  {
   "cell_type": "markdown",
   "id": "cc12ed86",
   "metadata": {},
   "source": [
    "**Larger nfft (=new_win_size) to replace convolution with multiplication?**"
   ]
  },
  {
   "cell_type": "markdown",
   "id": "ae8b3a77",
   "metadata": {},
   "source": [
    "### STFT in scipy\n",
    "\n",
    "We will use the older version:\n",
    "https://docs.scipy.org/doc/scipy/reference/generated/scipy.signal.stft.html\n",
    "\n",
    "Currently it is deprecated, it's ok for our needs."
   ]
  },
  {
   "cell_type": "code",
   "execution_count": null,
   "id": "08ad8ad4",
   "metadata": {},
   "outputs": [],
   "source": [
    "import scipy.signal as sig\n",
    "\n",
    "SR = 16_000\n",
    "\n",
    "x, sr = sf.read(PATH_IN_FOR_STFT)\n",
    "assert sr == SR\n",
    "\n",
    "# these arguments are often used in speech processing\n",
    "win_size = 400\n",
    "hop_size = 160\n",
    "n_fft = 512\n",
    "window = np.hanning(win_size)"
   ]
  },
  {
   "cell_type": "code",
   "execution_count": null,
   "id": "d495efbe",
   "metadata": {},
   "outputs": [],
   "source": [
    "*_, spec = sig.stft(\n",
    "    x, nfft=n_fft, nperseg=win_size, noverlap=win_size - hop_size,\n",
    "    window=window\n",
    ")\n",
    "\n",
    "\n",
    "print(\"shape:\", spec.shape)\n",
    "\n",
    "_, ax = plt.subplots()\n",
    "ax.imshow(np.flip(np.log(np.abs(spec))))\n",
    "ax.set_aspect('auto')\n",
    "plt.show()"
   ]
  },
  {
   "cell_type": "markdown",
   "id": "d1852b17",
   "metadata": {},
   "source": [
    "**ISTFT: the inverse of STFT**"
   ]
  },
  {
   "cell_type": "code",
   "execution_count": null,
   "id": "e6217c9f",
   "metadata": {},
   "outputs": [],
   "source": [
    "_, x_restored = sig.istft(\n",
    "    spec, nfft=n_fft, nperseg=win_size, noverlap=win_size - hop_size,\n",
    "    window=window\n",
    ")\n",
    "print(\"shapes: source signal and after reconstruction\")\n",
    "print(x.shape, x_restored.shape)\n",
    "print()\n",
    "\n",
    "print(\"max-abs error\")\n",
    "diff = np.abs(x - x_restored).max() \n",
    "print(diff)\n",
    "assert diff < 1e-12"
   ]
  },
  {
   "cell_type": "markdown",
   "id": "47ce0d2f",
   "metadata": {},
   "source": [
    "### Streaming data"
   ]
  },
  {
   "cell_type": "markdown",
   "id": "d0f883f0",
   "metadata": {},
   "source": [
    "The following function reads an audio file chunk-by-chunk.\n",
    "\n",
    "In practice audio chunks come from microphones. After VQE sound goes to the voice call."
   ]
  },
  {
   "cell_type": "code",
   "execution_count": null,
   "id": "c1f54c3c",
   "metadata": {},
   "outputs": [],
   "source": [
    "gen = sf.blocks(PATH_IN_FOR_STFT, blocksize=hop_size)\n",
    "\n",
    "print(\"chunk shapes:\")\n",
    "for chunk_idx, chunk in enumerate(gen):\n",
    "    print(chunk.shape)\n",
    "    if chunk_idx >= 3:\n",
    "        break\n",
    "\n",
    "# the audio file is open reading -> we should close it\n",
    "gen.close()"
   ]
  },
  {
   "cell_type": "markdown",
   "id": "6c8c521a",
   "metadata": {},
   "source": [
    "**For testing reasons** we will define a chunk streamer from numpy.ndarrays:"
   ]
  },
  {
   "cell_type": "code",
   "execution_count": null,
   "id": "47deb5a5",
   "metadata": {},
   "outputs": [],
   "source": [
    "from collections.abc import Iterator\n",
    "\n",
    "\n",
    "class NpArrayChunker:\n",
    "    def __init__(self, x, chunk_size: int) -> None:\n",
    "        self.x = x\n",
    "        self.chunk_size = chunk_size\n",
    "        self.start = 0\n",
    "\n",
    "    def _get_next_chunk(self) -> np.ndarray:\n",
    "        end = min(self.start + self.chunk_size, len(self.x))\n",
    "        result = self.x[self.start : end]\n",
    "        self.start = end\n",
    "        return result\n",
    "\n",
    "    def __iter__(self) -> Iterator[np.ndarray]:\n",
    "        while self.start != len(self.x):\n",
    "            yield self._get_next_chunk()"
   ]
  },
  {
   "cell_type": "markdown",
   "id": "7763f0c0",
   "metadata": {},
   "source": [
    "**Let's see how it works:**"
   ]
  },
  {
   "cell_type": "code",
   "execution_count": null,
   "id": "51c48129",
   "metadata": {},
   "outputs": [],
   "source": [
    "x = np.arange(10)\n",
    "\n",
    "chunker = NpArrayChunker(x, 2)\n",
    "\n",
    "print(\"array:\")\n",
    "print(x)\n",
    "print(\"chunks:\")\n",
    "for chunk in chunker:\n",
    "    print(chunk)"
   ]
  },
  {
   "cell_type": "markdown",
   "id": "8fdaa1bf",
   "metadata": {},
   "source": [
    "**We can define another chunk size:**"
   ]
  },
  {
   "cell_type": "code",
   "execution_count": null,
   "id": "12586aa2",
   "metadata": {},
   "outputs": [],
   "source": [
    "chunker = NpArrayChunker(x, 3)\n",
    "\n",
    "print(\"array:\")\n",
    "print(x)\n",
    "print(\"chunks\")\n",
    "for chunk in chunker:\n",
    "    print(chunk)"
   ]
  },
  {
   "cell_type": "markdown",
   "id": "52d732d8",
   "metadata": {},
   "source": [
    "**The last chunk is not full, which matches the situation when the input stream does not come in full chunks**"
   ]
  },
  {
   "cell_type": "markdown",
   "id": "bf685874",
   "metadata": {},
   "source": [
    "## Coding time"
   ]
  },
  {
   "cell_type": "markdown",
   "id": "b010e68a",
   "metadata": {},
   "source": [
    "### Streaming sliding window"
   ]
  },
  {
   "cell_type": "code",
   "execution_count": null,
   "id": "531e2dc3",
   "metadata": {},
   "outputs": [],
   "source": [
    "class StreamingSlidingWindow:\n",
    "    \"\"\"\n",
    "    Implements streaming sliding window.\n",
    "\n",
    "    It means that inputs can come in small chunks. In practice chunks are small, but this class will handle\n",
    "    arbitrarily sized chunks.\n",
    "\n",
    "    How it should work (the __call__ method):\n",
    "    It should accumulate chunks of full input and as soon as a full window\n",
    "    (or several windows with hops as input chunks can be large, too)\n",
    "    is accumulated, it should be yielded and the necessary part of accumulated input should be dropped,\n",
    "    resulting in O(win_size + input_chunk_size) complexity in computation an memory.\n",
    "\n",
    "    \"\"\"\n",
    "\n",
    "    def __init__(\n",
    "        self, win_size: int, hop_size: int, initial_fill: np.ndarray | None = None\n",
    "    ) -> None:\n",
    "        assert win_size >= hop_size, (win_size, hop_size)\n",
    "        self.win_size = win_size\n",
    "        self.hop_size = hop_size\n",
    "\n",
    "        # this is where the pieces of input are accumulated\n",
    "        self.next_window_prefix: np.ndarray | None = initial_fill\n",
    "\n",
    "    def __call__(self, chunk: np.ndarray) -> Iterator[np.ndarray]:\n",
    "        \"\"\"\n",
    "        Updates streaming sliding window from a new input chunk\n",
    "        \"\"\"\n",
    "        if self.next_window_prefix is None:\n",
    "            chunk_full = chunk\n",
    "        else:\n",
    "            chunk_full = np.concatenate([self.next_window_prefix, chunk], axis=0)\n",
    "\n",
    "        start_idx = 0\n",
    "        while start_idx + self.win_size # condition: iterate with windows over chunk_full\n",
    "            end_idx = # your code\n",
    "            window = chunk_full[start_idx:end_idx]\n",
    "            yield window\n",
    "            start_idx = # update the cycle variable\n",
    "\n",
    "        self.next_window_prefix = # crop the irrelevant part\n",
    "\n",
    "    def zero_pad_cache(self) -> None:\n",
    "        \"\"\"\n",
    "        Pads self.next_window_prefix with zeros to match the full win_size if it is not empty.\n",
    "\n",
    "        We need this function to process the final part of input which does not fill a full window.\n",
    "        \"\"\"\n",
    "        if self.next_window_prefix is None:\n",
    "            return\n",
    "        rest = self.win_size - len(self.next_window_prefix)\n",
    "        if rest == 0:\n",
    "            return\n",
    "        padding = np.zeros(\n",
    "            [*self.next_window_prefix.shape[:-1], rest],\n",
    "            dtype=self.next_window_prefix.dtype,\n",
    "        )\n",
    "        self.next_window_prefix = np.concatenate([self.next_window_prefix, padding])\n"
   ]
  },
  {
   "cell_type": "markdown",
   "id": "8b23d752",
   "metadata": {},
   "source": [
    "**Now let's test StreamingSlidingWindow and observe its behavior**"
   ]
  },
  {
   "cell_type": "code",
   "execution_count": null,
   "id": "cf6910a0",
   "metadata": {},
   "outputs": [],
   "source": [
    "def observe_sliding_window(sig_len: int, win_size: int, hop_size: int, chunk_size: int):\n",
    "    x = np.arange(sig_len) + 1\n",
    "\n",
    "    print(\"signal:\")\n",
    "    print(x)\n",
    "    print()\n",
    "\n",
    "    window_transform = StreamingSlidingWindow(win_size, hop_size)\n",
    "    windows = []\n",
    "\n",
    "    for chunk_idx, chunk in enumerate(NpArrayChunker(x, chunk_size)):\n",
    "        print(\"chunk_idx:\", chunk_idx)\n",
    "        print(\"chunk:\", chunk)\n",
    "        windows_from_chunk = list(window_transform(chunk))\n",
    "        print(\"windows from the chunk:\", windows_from_chunk)\n",
    "        windows += windows_from_chunk\n",
    "        print()\n",
    "\n",
    "    sliding_window_result = np.stack(windows).T\n",
    "    print()\n",
    "    print(\"result:\")\n",
    "    print(sliding_window_result)\n",
    "    \n",
    "    return sliding_window_result"
   ]
  },
  {
   "cell_type": "markdown",
   "id": "86e1aead",
   "metadata": {},
   "source": [
    "**A simple example:**"
   ]
  },
  {
   "cell_type": "code",
   "execution_count": null,
   "id": "6924689a",
   "metadata": {},
   "outputs": [],
   "source": [
    "result = observe_sliding_window(sig_len=10, win_size=4, hop_size=2, chunk_size=2)\n",
    "\n",
    "answer = np.array([\n",
    "    [1, 2, 3, 4],\n",
    "    [3, 4, 5, 6],\n",
    "    [5, 6, 7, 8],\n",
    "    [7, 8, 9, 10],\n",
    "]).T\n",
    "\n",
    "assert np.all(result == answer)"
   ]
  },
  {
   "cell_type": "markdown",
   "id": "bd032115",
   "metadata": {},
   "source": [
    "**Question:** the output for the first chunk is empty. Why?"
   ]
  },
  {
   "cell_type": "markdown",
   "id": "a33c1086",
   "metadata": {},
   "source": [
    "**Another signal duration:**"
   ]
  },
  {
   "cell_type": "code",
   "execution_count": null,
   "id": "f2311bb9",
   "metadata": {},
   "outputs": [],
   "source": [
    "result = observe_sliding_window(sig_len=11, win_size=4, hop_size=2, chunk_size=2)\n",
    "\n",
    "answer = np.array([\n",
    "    [1, 2, 3, 4],\n",
    "    [3, 4, 5, 6],\n",
    "    [5, 6, 7, 8],\n",
    "    [7, 8, 9, 10],\n",
    "]).T\n",
    "\n",
    "assert np.all(result == answer)"
   ]
  },
  {
   "cell_type": "markdown",
   "id": "e8e333de",
   "metadata": {},
   "source": [
    "**Question:** the output for the last chunk is empty, and the signal was not transformed completely. Why?"
   ]
  },
  {
   "cell_type": "markdown",
   "id": "0b9c24e6",
   "metadata": {},
   "source": [
    "**We can use initial fill and zero_pad_cache for zero padding:**"
   ]
  },
  {
   "cell_type": "code",
   "execution_count": null,
   "id": "50b833bb",
   "metadata": {},
   "outputs": [],
   "source": [
    "def observe_sliding_window_v2(sig_len: int, win_size: int, hop_size: int, chunk_size: int, padding: bool = False):\n",
    "    x = np.arange(sig_len) + 1\n",
    "\n",
    "    print(\"signal:\")\n",
    "    print(x)\n",
    "    print()\n",
    "\n",
    "    window_transform = StreamingSlidingWindow(\n",
    "        win_size, hop_size,\n",
    "        # note initial_fill!\n",
    "        initial_fill=np.zeros(win_size - hop_size, dtype=x.dtype) if padding else None\n",
    "    )\n",
    "    windows = []\n",
    "\n",
    "    for chunk_idx, chunk in enumerate(NpArrayChunker(x, chunk_size)):\n",
    "        print(\"chunk:\", chunk)\n",
    "        windows_from_chunk = list(window_transform(chunk))\n",
    "        print(\"windows from the chunk:\", windows_from_chunk)\n",
    "        windows += windows_from_chunk\n",
    "        print()\n",
    "\n",
    "    # note this post-processing!\n",
    "    window_transform.zero_pad_cache()\n",
    "    for chunk in [np.array([0])[:0]]:\n",
    "        print(\"chunk:\", chunk)\n",
    "        windows_from_chunk = list(window_transform(chunk))\n",
    "        print(\"windows from the chunk:\", windows_from_chunk)\n",
    "        windows += windows_from_chunk\n",
    "\n",
    "    sliding_window_result = np.stack(windows).T\n",
    "    print()\n",
    "    print(\"result:\")\n",
    "    print(sliding_window_result)\n",
    "    \n",
    "    return sliding_window_result"
   ]
  },
  {
   "cell_type": "code",
   "execution_count": null,
   "id": "319d8ed1",
   "metadata": {},
   "outputs": [],
   "source": [
    "result = observe_sliding_window_v2(sig_len=11, win_size=4, hop_size=2, chunk_size=2, padding=True)\n",
    "\n",
    "answer = np.array([\n",
    "    [0, 0, 1, 2],\n",
    "    [1, 2, 3, 4],\n",
    "    [3, 4, 5, 6],\n",
    "    [5, 6, 7, 8],\n",
    "    [7, 8, 9, 10],\n",
    "    [9, 10, 11, 0],\n",
    "]).T\n",
    "\n",
    "assert np.all(result == answer)"
   ]
  },
  {
   "cell_type": "markdown",
   "id": "c5a2ef52",
   "metadata": {},
   "source": [
    "**Right padding looks a little clumsy:** we could optimize it, but that's not the point."
   ]
  },
  {
   "cell_type": "markdown",
   "id": "aa78922c",
   "metadata": {},
   "source": [
    "**Finally let's oberve our sliding window with hop_size $\\neq$ chunk_size**"
   ]
  },
  {
   "cell_type": "code",
   "execution_count": null,
   "id": "61710a9c",
   "metadata": {},
   "outputs": [],
   "source": [
    "result = observe_sliding_window_v2(sig_len=11, win_size=4, hop_size=2, chunk_size=3, padding=True)\n",
    "\n",
    "answer = np.array([\n",
    "    [0, 0, 1, 2],\n",
    "    [1, 2, 3, 4],\n",
    "    [3, 4, 5, 6],\n",
    "    [5, 6, 7, 8],\n",
    "    [7, 8, 9, 10],\n",
    "    [9, 10, 11, 0],\n",
    "]).T\n",
    "\n",
    "assert np.all(result == answer)"
   ]
  },
  {
   "cell_type": "markdown",
   "id": "d67d7438",
   "metadata": {},
   "source": [
    "**The result should not change.** Because only the order of computations is influenced, not the mathematical operation.\n",
    "\n",
    "Note 2 output windows for one of the input chunks."
   ]
  },
  {
   "cell_type": "markdown",
   "id": "033dbe55",
   "metadata": {},
   "source": [
    "### Streaming overlap-add"
   ]
  },
  {
   "cell_type": "code",
   "execution_count": null,
   "id": "92bc932d",
   "metadata": {},
   "outputs": [],
   "source": [
    "class StreamingOverlapAdd:\n",
    "    \"\"\"\n",
    "    Implements streaming overlap-add.\n",
    "    \"\"\"\n",
    "\n",
    "    def __init__(self, hop_size: int) -> None:\n",
    "        self.hop_size = hop_size\n",
    "        self.out_window: np.ndarray | None = None\n",
    "        self.out_weight: np.ndarray | None = None\n",
    "\n",
    "    def __call__(self, window: np.ndarray, weights: np.ndarray | None = None):\n",
    "        \"\"\"\n",
    "        Takes a window with corresponding weights.\n",
    "        Adds the window with the weights to the accumulated values.\n",
    "        \n",
    "        The accumulated values which will no longer be modified by upcoming windows\n",
    "        are returned, divided by their total weights.\n",
    "        \n",
    "        \"\"\"\n",
    "        if weights is None:\n",
    "            weights = np.ones(len(window))\n",
    "        window_full = np.copy(window.astype(np.float64))\n",
    "        weight_full = np.copy(weights.astype(np.float64))\n",
    "        if self.out_window is not None:\n",
    "            assert self.out_weight is not None\n",
    "            # calculate actual values in window_full and weight_full\n",
    "\n",
    "        window_out = # the window values for output\n",
    "        weight_out = # the weight values for output\n",
    "\n",
    "        result = window_out / weight_out\n",
    "\n",
    "        self.out_window = # unfifished part of the window\n",
    "        self.out_weight = # unfifished part of the weights\n",
    "\n",
    "        return result"
   ]
  },
  {
   "cell_type": "markdown",
   "id": "0b90ef54",
   "metadata": {},
   "source": [
    "**Let's test and observe the behavior of Overlap-Add**"
   ]
  },
  {
   "cell_type": "code",
   "execution_count": null,
   "id": "9960bc62",
   "metadata": {},
   "outputs": [],
   "source": [
    "def observe_overlap_add(\n",
    "    sig_len: int, win_size: int, hop_size: int,\n",
    "    chunk_size: int, padding: bool = False,\n",
    "    window_fn=np.ones,\n",
    "):\n",
    "    x = np.arange(sig_len) + 1\n",
    "\n",
    "    print(\"signal:\")\n",
    "    print(x)\n",
    "    print()\n",
    "    \n",
    "    window_mult = window_fn(win_size)\n",
    "\n",
    "    window_transform = StreamingSlidingWindow(\n",
    "        win_size, hop_size,\n",
    "        initial_fill=np.zeros(win_size - hop_size, dtype=x.dtype) if padding else None\n",
    "    )\n",
    "    overlap_add = StreamingOverlapAdd(hop_size)\n",
    "    \n",
    "    windows = []\n",
    "    signal_restored = []\n",
    "\n",
    "    for chunk_idx, chunk in enumerate(NpArrayChunker(x, chunk_size)):\n",
    "        print(\"chunk:\", chunk)\n",
    "        windows_from_chunk = list(window_transform(chunk))\n",
    "        print(\"windows from the chunk:\", windows_from_chunk)\n",
    "        windows += windows_from_chunk\n",
    "        \n",
    "        # this is done inside STFT\n",
    "        windows_weighted = [x * window_mult for x in windows_from_chunk]\n",
    "\n",
    "        # this is done inside ISTFT\n",
    "        wins_weighted_twice = [x * window_mult for x in windows_weighted]\n",
    "\n",
    "        chunks_restored = [overlap_add(win, window_mult ** 2) for win in wins_weighted_twice]\n",
    "        signal_restored += chunks_restored\n",
    "        print(\"chunks restored:\", chunks_restored)\n",
    "        print()\n",
    "        \n",
    "    sliding_window_result = np.stack(windows).T\n",
    "    signal_restored = np.concatenate(signal_restored)\n",
    "    \n",
    "    return signal_restored"
   ]
  },
  {
   "cell_type": "code",
   "execution_count": null,
   "id": "072ccbee",
   "metadata": {},
   "outputs": [],
   "source": [
    "answer = np.arange(1, 9)\n",
    "result = observe_overlap_add(10, 4, 2, 2, False)\n",
    "\n",
    "assert np.allclose(answer, result)"
   ]
  },
  {
   "cell_type": "code",
   "execution_count": null,
   "id": "657293f7",
   "metadata": {},
   "outputs": [],
   "source": [
    "signal_restored = observe_overlap_add(10, 4, 2, 2, False, window_fn=np.hanning)\n",
    "print(\"result:\")\n",
    "print(signal_restored)"
   ]
  },
  {
   "cell_type": "markdown",
   "id": "856b66ff",
   "metadata": {},
   "source": [
    "**See the nan?** The signal was restored correctly, however the first value turned into nan.\n",
    "\n",
    "This happened because the was no window overlap for the first index, and the window_mult value is 0 there.\n",
    "\n",
    "It's an edge effect: the first (win_size - hop_size) samples can experience problems.\n",
    "\n",
    "How to handle it? Use padding in window transform. If we apply left padding for win_size - hop_size samples, the edge effect will only influence the padding values.\n",
    "\n",
    "Anyway, it is not a big deal for long streams."
   ]
  },
  {
   "cell_type": "code",
   "execution_count": null,
   "id": "f34b56d3",
   "metadata": {},
   "outputs": [],
   "source": [
    "answer = np.arange(1, 9)\n",
    "\n",
    "win_size = 4\n",
    "hop_size = 2\n",
    "signal_restored = observe_overlap_add(10, win_size, hop_size, 2, padding=True, window_fn=np.hanning)\n",
    "signal_restored = signal_restored[win_size - hop_size:]\n",
    "print(\"result:\")\n",
    "print(signal_restored)\n",
    "\n",
    "assert np.allclose(signal_restored, answer)"
   ]
  },
  {
   "cell_type": "markdown",
   "id": "9c24f7f4",
   "metadata": {},
   "source": [
    "### Streaming STFT:\n",
    "\n",
    "$$STFT = \\text{DFT} \\cdot \\text{zero_pad} \\cdot \\text{window_multiplication} \\cdot \\text{sliding_window}$$\n",
    "\n",
    "$$ISTFT = \\text{overlap_add} \\cdot \\text{window_multiplication} \\cdot \\text{crop} \\cdot \\text{IDFT}$$"
   ]
  },
  {
   "cell_type": "code",
   "execution_count": null,
   "id": "c9d435f9",
   "metadata": {},
   "outputs": [],
   "source": [
    "class StreamingStft:\n",
    "    def __init__(\n",
    "        self,\n",
    "        n_fft: int,\n",
    "        window: np.ndarray,\n",
    "        hop_size: int,\n",
    "        padding_mode: str = \"torch\",\n",
    "        left_padding: bool = False,\n",
    "    ) -> None:\n",
    "        self.window = window\n",
    "        win_size = len(window)\n",
    "        self.window_transform = StreamingSlidingWindow(\n",
    "            win_size=win_size,\n",
    "            hop_size=hop_size,\n",
    "            initial_fill=np.zeros(win_size - hop_size) if left_padding else None,\n",
    "        )\n",
    "        self.n_fft = n_fft\n",
    "        assert n_fft >= win_size, (n_fft, win_size)\n",
    "        assert n_fft % 2 == win_size % 2 == 0, (n_fft, win_size)\n",
    "        self.side_padding = (n_fft - win_size) // 2\n",
    "        self.padding_mode = padding_mode\n",
    "        self.left_padding = left_padding\n",
    "\n",
    "    def __call__(self, chunk: np.ndarray) -> Iterator[np.ndarray]:\n",
    "        for sliding_window in self.window_transform(chunk):\n",
    "            smoothened = # multiply by window\n",
    "            padding = np.zeros(self.side_padding)\n",
    "            if self.padding_mode == \"torch\":\n",
    "                padded = np.concatenate([padding, smoothened, padding])\n",
    "            elif self.padding_mode == \"scipy\":\n",
    "                padded = np.concatenate([smoothened, padding, padding])\n",
    "            else:\n",
    "                assert False, self.padding_mode\n",
    "            stft_chunk = np.fft.rfft(padded)  # fft for real-valued inputs\n",
    "            yield stft_chunk"
   ]
  },
  {
   "cell_type": "markdown",
   "id": "60ce38d1",
   "metadata": {},
   "source": [
    "**Let's compare against scipy:**"
   ]
  },
  {
   "cell_type": "code",
   "execution_count": null,
   "id": "5a60534e",
   "metadata": {},
   "outputs": [],
   "source": [
    "win_size = 400\n",
    "hop_size = 160\n",
    "n_fft = 512\n",
    "\n",
    "window = np.hanning(win_size)"
   ]
  },
  {
   "cell_type": "code",
   "execution_count": null,
   "id": "df4422a0",
   "metadata": {},
   "outputs": [],
   "source": [
    "x, _ = sf.read(PATH_IN_FOR_STFT)\n",
    "*_, spec_scipy = sig.stft(\n",
    "    x, nfft=n_fft, nperseg=win_size, noverlap=win_size - hop_size, padded=False, boundary=None,\n",
    "    window=window\n",
    ")\n",
    "spec_scipy.shape"
   ]
  },
  {
   "cell_type": "code",
   "execution_count": null,
   "id": "08504791",
   "metadata": {},
   "outputs": [],
   "source": [
    "stft = StreamingStft(n_fft, window, hop_size, padding_mode=\"scipy\")\n",
    "\n",
    "spec = []\n",
    "    \n",
    "for chunk in sf.blocks(PATH_IN_FOR_STFT, blocksize=hop_size, overlap=0):\n",
    "    stft_chunks = list(stft(chunk))\n",
    "    spec += stft_chunks\n",
    "\n",
    "spec = np.stack(spec).T\n",
    "print(spec.shape)\n",
    "\n",
    "_, axes = plt.subplots(ncols=2)\n",
    "\n",
    "ax = axes[0]\n",
    "ax.set_title(\"Ours\")\n",
    "ax.imshow(np.flip(np.log(np.abs(spec))))\n",
    "ax.set_aspect('auto')\n",
    "\n",
    "ax = axes[1]\n",
    "ax.set_title(\"scipy\")\n",
    "ax.imshow(np.flip(np.log(np.abs(spec_scipy))))\n",
    "ax.set_aspect('auto')\n",
    "plt.show()"
   ]
  },
  {
   "cell_type": "markdown",
   "id": "76e07276",
   "metadata": {},
   "source": [
    "**Scipy applies scaling in stft.** Let's evaluate and compensate for it:"
   ]
  },
  {
   "cell_type": "code",
   "execution_count": null,
   "id": "f6f53f0f",
   "metadata": {},
   "outputs": [],
   "source": [
    "spec.shape, spec_scipy.shape"
   ]
  },
  {
   "cell_type": "code",
   "execution_count": null,
   "id": "f807470d",
   "metadata": {},
   "outputs": [],
   "source": [
    "scaling_mult = win_size // 2 - 0.5\n",
    "np.abs(spec / spec_scipy).max(), np.abs(spec / spec_scipy).min(), scaling_mult"
   ]
  },
  {
   "cell_type": "markdown",
   "id": "97422026",
   "metadata": {},
   "source": [
    "**Difference:**"
   ]
  },
  {
   "cell_type": "code",
   "execution_count": null,
   "id": "e1eef2cb",
   "metadata": {},
   "outputs": [],
   "source": [
    "diff = np.abs(spec - spec_scipy * scaling_mult).max()\n",
    "print(diff)\n",
    "assert diff < 1e-10, diff\n",
    "print(\"Great job!\")"
   ]
  },
  {
   "cell_type": "markdown",
   "id": "aa2e332f",
   "metadata": {},
   "source": [
    "### Streaming ISTFT\n",
    "\n",
    "$$STFT = \\text{DFT} \\cdot \\text{zero_pad} \\cdot \\text{window_multiplication} \\cdot \\text{sliding_window}$$\n",
    "\n",
    "$$ISTFT = \\text{overlap_add} \\cdot \\text{window_multiplication} \\cdot \\text{crop} \\cdot \\text{IDFT}$$"
   ]
  },
  {
   "cell_type": "code",
   "execution_count": null,
   "id": "4f0a9ae4",
   "metadata": {},
   "outputs": [],
   "source": [
    "class StreamingIStft:\n",
    "    def __init__(\n",
    "        self,\n",
    "        n_fft: int,\n",
    "        window: np.ndarray,\n",
    "        hop_size: int,\n",
    "        padding_mode: str = \"torch\",\n",
    "    ) -> None:\n",
    "        self.window = window\n",
    "        win_size = len(window)\n",
    "        self.win_size = win_size\n",
    "        self.overlap_add = StreamingOverlapAdd(hop_size=hop_size)\n",
    "        self.n_fft = n_fft\n",
    "        assert n_fft >= win_size, (n_fft, win_size)\n",
    "        assert n_fft % 2 == win_size % 2 == 0, (n_fft, win_size)\n",
    "        self.side_padding = (n_fft - win_size) // 2\n",
    "        self.padding_mode = padding_mode\n",
    "\n",
    "    def __call__(\n",
    "        self, spectral_window: np.ndarray, input_window_weight: np.ndarray | None = None\n",
    "    ) -> np.ndarray:\n",
    "        if input_window_weight is None:\n",
    "            input_window_weight = self.window\n",
    "        window_padded = np.fft.irfft(spectral_window)  # inverse rfft\n",
    "        if self.padding_mode == \"torch\":\n",
    "            # crop for \"torch\"\n",
    "        elif self.padding_mode == \"scipy\":\n",
    "            # crop for \"scipy\"\n",
    "        window_smoothened = # multiple by input_window_weight\n",
    "        weight = self.window * input_window_weight\n",
    "        chunk_out = self.overlap_add(window_smoothened, weight)\n",
    "        return chunk_out"
   ]
  },
  {
   "cell_type": "markdown",
   "id": "20f056a3",
   "metadata": {},
   "source": [
    "**Let's check that ISTFT is the inverse of STFT**"
   ]
  },
  {
   "cell_type": "code",
   "execution_count": null,
   "id": "1f46709f",
   "metadata": {},
   "outputs": [],
   "source": [
    "padding_mode = \"scipy\"\n",
    "stft = StreamingStft(n_fft, window, hop_size, padding_mode=padding_mode, left_padding=True)\n",
    "istft = StreamingIStft(n_fft, window, hop_size, padding_mode=padding_mode)\n",
    "\n",
    "waveform_restored = []\n",
    "for chunk in sf.blocks(PATH_IN_FOR_STFT, blocksize=hop_size, overlap=0):\n",
    "    stft_chunks = list(stft(chunk))\n",
    "    for stft_chunk in stft_chunks:\n",
    "        waveform_restored_chunk = istft(stft_chunk)\n",
    "        waveform_restored.append(waveform_restored_chunk)\n",
    "\n",
    "waveform_restored = np.concatenate(waveform_restored)[len(window) - hop_size:]\n",
    "waveform, _ = sf.read(PATH_IN_FOR_STFT)\n",
    "\n",
    "_, ax = plt.subplots()\n",
    "ax.plot(waveform_restored)\n",
    "ax.plot(waveform, alpha=0.5)\n",
    "ax.grid()\n",
    "plt.show()\n",
    "\n",
    "common_prefix = min(len(waveform_restored), len(waveform))\n",
    "\n",
    "diff = np.abs(waveform_restored[:common_prefix] - waveform[:common_prefix]).max()\n",
    "\n",
    "print(\"diff:\", diff)\n",
    "assert diff < 1e-12"
   ]
  },
  {
   "cell_type": "markdown",
   "id": "19c916cd",
   "metadata": {},
   "source": [
    "# Simple VQE"
   ]
  },
  {
   "cell_type": "markdown",
   "id": "30e98f09",
   "metadata": {},
   "source": [
    "We will implement a simple high-pass filter.\n",
    "\n",
    "There are more sophisticated ways to do it faster and more accurately, e.g.\n",
    "https://docs.scipy.org/doc/scipy/reference/generated/scipy.signal.butter.html\n",
    "\n",
    "But our naive approach will work as well."
   ]
  },
  {
   "cell_type": "code",
   "execution_count": null,
   "id": "43c268ba",
   "metadata": {},
   "outputs": [],
   "source": [
    "PATH_IN_FOR_LPF = \"data/mixtures/bird.wav\"\n",
    "N_FFT = 512\n",
    "win_size = 480\n",
    "hop_size = 160\n",
    "\n",
    "\n",
    "x, sr = sf.read(PATH_IN_FOR_LPF)\n",
    "assert sr == SR\n",
    "\n",
    "f, t, spec = sig.stft(x, nfft=N_FFT, nperseg=win_size, noverlap=win_size - hop_size, fs=SR)\n",
    "\n",
    "_, ax = plt.subplots()\n",
    "ax.pcolormesh(t, f, np.log(np.abs(spec)))\n",
    "ax.set_xlabel(\"Time, sec\")\n",
    "ax.set_ylabel(\"Freq, Hz\")\n",
    "ax.set_aspect(\"auto\")\n",
    "ax.grid()\n",
    "plt.show()"
   ]
  },
  {
   "cell_type": "markdown",
   "id": "8a9920ef",
   "metadata": {},
   "source": [
    "We can see noise is concentrated above 1500 Hz.\n",
    "\n",
    "**Let's just zero out those frequencies:**"
   ]
  },
  {
   "cell_type": "code",
   "execution_count": null,
   "id": "020af64a",
   "metadata": {},
   "outputs": [],
   "source": [
    "cutoff_freq_hz = 1500\n",
    "freq_nyq = SR / 2\n",
    "\n",
    "cutoff_freq_bin = int(cutoff_freq_hz / freq_nyq * (N_FFT // 2 + 1))\n",
    "\n",
    "spec_lpf = np.copy(spec)\n",
    "spec_lpf[cutoff_freq_bin] *= 0."
   ]
  },
  {
   "cell_type": "code",
   "execution_count": null,
   "id": "5e63880c",
   "metadata": {},
   "outputs": [],
   "source": [
    "_, ax = plt.subplots()\n",
    "ax.pcolormesh(t, f, np.log(np.abs(spec_lpf) + 1e-8))\n",
    "ax.set_xlabel(\"Time, sec\")\n",
    "ax.set_ylabel(\"Freq, Hz\")\n",
    "ax.set_aspect(\"auto\")\n",
    "ax.grid()\n",
    "plt.show()"
   ]
  },
  {
   "cell_type": "code",
   "execution_count": null,
   "id": "f2a0e143",
   "metadata": {},
   "outputs": [],
   "source": [
    "_, wave_enhanced = sig.istft(spec_lpf, nfft=N_FFT, nperseg=win_size, noverlap=win_size - hop_size)"
   ]
  },
  {
   "cell_type": "code",
   "execution_count": null,
   "id": "76a3a765",
   "metadata": {},
   "outputs": [],
   "source": [
    "_, wave_enhanced = sig.istft(spec_lpf, nfft=N_FFT, nperseg=win_size, noverlap=win_size - hop_size)\n",
    "\n",
    "sf.write(\"wav_enhanced.wav\", wave_enhanced, SR)"
   ]
  },
  {
   "cell_type": "markdown",
   "id": "f07a1b24",
   "metadata": {},
   "source": [
    "**Now let's make it streaming**\n",
    "\n",
    "This time we will both read and write in streaming mode:"
   ]
  },
  {
   "cell_type": "code",
   "execution_count": null,
   "id": "80c2d1fe",
   "metadata": {},
   "outputs": [],
   "source": [
    "N_FFT = 512\n",
    "win_size = 480\n",
    "hop_size = 160\n",
    "window = np.hanning(win_size)\n",
    "padding_mode = \"scipy\"\n",
    "\n",
    "stft = StreamingStft(n_fft, window, hop_size, padding_mode=padding_mode, left_padding=True)\n",
    "istft = StreamingIStft(n_fft, window, hop_size, padding_mode=padding_mode)\n",
    "\n",
    "\n",
    "with sf.SoundFile(\"wav_enhanced_stream.wav\", \"w\", samplerate=SR, channels=1) as f:\n",
    "    for chunk_idx, chunk in enumerate(sf.blocks(PATH_IN_FOR_LPF, blocksize=hop_size, overlap=0)):\n",
    "        stft_chunks = list(stft(chunk))\n",
    "        for stft_chunk in stft_chunks:\n",
    "            stft_chunk[cutoff_freq_bin: ] *= 0.\n",
    "            waveform_restored_chunk = istft(stft_chunk)\n",
    "            if chunk_idx >= (win_size - hop_size) // hop_size:\n",
    "                f.write(waveform_restored_chunk)"
   ]
  },
  {
   "cell_type": "markdown",
   "id": "13e73747",
   "metadata": {},
   "source": [
    "### For the curious\n",
    "\n",
    "Another simple and more practical method is called spectral subtraction.\n",
    "\n",
    "The idea is as follows:\n",
    "\n",
    "1. The phase from the input complex spectrogram is used. Magnitude spectrum is enhanced.\n",
    "2. For each frequency bin exponential moving average of noise power is evaluated\n",
    "3. The accumulated average is subtracted from the magnitude spectrum. Or a threshold is evaluated based on it; values greater than the threshold are kept unlatered, values below the threshold are zeroed\n",
    "\n",
    "This method is suitable for weak stationary noise.\n",
    "\n",
    "The data/mixtures/broadband.wav file can be suitable can be used for that.\n",
    "\n",
    "https://www.iject.org/vol2issue4/paurav.pdf"
   ]
  },
  {
   "cell_type": "code",
   "execution_count": null,
   "id": "449add2d",
   "metadata": {},
   "outputs": [],
   "source": []
  }
 ],
 "metadata": {
  "kernelspec": {
   "display_name": "Python 3 (ipykernel)",
   "language": "python",
   "name": "python3"
  },
  "language_info": {
   "codemirror_mode": {
    "name": "ipython",
    "version": 3
   },
   "file_extension": ".py",
   "mimetype": "text/x-python",
   "name": "python",
   "nbconvert_exporter": "python",
   "pygments_lexer": "ipython3",
   "version": "3.11.8"
  }
 },
 "nbformat": 4,
 "nbformat_minor": 5
}
